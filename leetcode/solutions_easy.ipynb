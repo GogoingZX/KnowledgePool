{
 "cells": [
  {
   "cell_type": "markdown",
   "metadata": {
    "toc": true
   },
   "source": [
    "<h1>Table of Contents<span class=\"tocSkip\"></span></h1>\n",
    "<div class=\"toc\"><ul class=\"toc-item\"><li><span><a href=\"#283---Moving-Zeroes\" data-toc-modified-id=\"283---Moving-Zeroes-1\"><span class=\"toc-item-num\">1&nbsp;&nbsp;</span>283 - Moving Zeroes</a></span></li><li><span><a href=\"#1431---The-Greatest-Number-of-Candies\" data-toc-modified-id=\"1431---The-Greatest-Number-of-Candies-2\"><span class=\"toc-item-num\">2&nbsp;&nbsp;</span>1431 - The Greatest Number of Candies</a></span></li><li><span><a href=\"#ToDo\" data-toc-modified-id=\"ToDo-3\"><span class=\"toc-item-num\">3&nbsp;&nbsp;</span>ToDo</a></span></li><li><span><a href=\"#ToDo\" data-toc-modified-id=\"ToDo-4\"><span class=\"toc-item-num\">4&nbsp;&nbsp;</span>ToDo</a></span></li><li><span><a href=\"#ToDo\" data-toc-modified-id=\"ToDo-5\"><span class=\"toc-item-num\">5&nbsp;&nbsp;</span>ToDo</a></span></li><li><span><a href=\"#ToDo\" data-toc-modified-id=\"ToDo-6\"><span class=\"toc-item-num\">6&nbsp;&nbsp;</span>ToDo</a></span></li><li><span><a href=\"#ToDo\" data-toc-modified-id=\"ToDo-7\"><span class=\"toc-item-num\">7&nbsp;&nbsp;</span>ToDo</a></span></li><li><span><a href=\"#ToDo\" data-toc-modified-id=\"ToDo-8\"><span class=\"toc-item-num\">8&nbsp;&nbsp;</span>ToDo</a></span></li><li><span><a href=\"#ToDo\" data-toc-modified-id=\"ToDo-9\"><span class=\"toc-item-num\">9&nbsp;&nbsp;</span>ToDo</a></span></li><li><span><a href=\"#ToDo\" data-toc-modified-id=\"ToDo-10\"><span class=\"toc-item-num\">10&nbsp;&nbsp;</span>ToDo</a></span></li></ul></div>"
   ]
  },
  {
   "cell_type": "code",
   "execution_count": 1,
   "metadata": {
    "ExecuteTime": {
     "end_time": "2021-02-23T14:38:02.741116Z",
     "start_time": "2021-02-23T14:38:02.443039Z"
    }
   },
   "outputs": [],
   "source": [
    "import sys\n",
    "import os\n",
    "\n",
    "import numpy as np\n",
    "import pandas as pd\n",
    "\n",
    "import warnings\n",
    "warnings.filterwarnings(\"ignore\")\n",
    "from IPython.core.interactiveshell import InteractiveShell\n",
    "InteractiveShell.ast_node_interactivity = \"all\""
   ]
  },
  {
   "cell_type": "markdown",
   "metadata": {},
   "source": [
    "---"
   ]
  },
  {
   "cell_type": "markdown",
   "metadata": {
    "heading_collapsed": true
   },
   "source": [
    "## 283 - Moving Zeroes"
   ]
  },
  {
   "cell_type": "markdown",
   "metadata": {
    "hidden": true
   },
   "source": [
    "Given an array `nums`, write a function to move all 0's to the end of it while maintaining the relative order of the non-zero elements.\n",
    "\n",
    "> Input: [0,1,0,3,12]\n",
    ">\n",
    "> Output: [1,3,12,0,0]"
   ]
  },
  {
   "cell_type": "code",
   "execution_count": 4,
   "metadata": {
    "ExecuteTime": {
     "end_time": "2021-02-20T16:06:11.836653Z",
     "start_time": "2021-02-20T16:06:11.825766Z"
    },
    "hidden": true
   },
   "outputs": [
    {
     "data": {
      "text/plain": [
       "[1, 3, 12, 0, 0]"
      ]
     },
     "execution_count": 4,
     "metadata": {},
     "output_type": "execute_result"
    }
   ],
   "source": [
    "def move_zeroes(nums):\n",
    "    index = 0\n",
    "    for i in range(len(nums)):\n",
    "        if nums[index] == 0:\n",
    "            pop_num = nums.pop(index)\n",
    "            nums.append(pop_num)\n",
    "        else:\n",
    "            index += 1\n",
    "            \n",
    "    return nums\n",
    "            \n",
    "# test\n",
    "input_array = [0, 1, 0, 3, 12]\n",
    "output_array = move_zeroes(input_array)\n",
    "output_array"
   ]
  },
  {
   "cell_type": "markdown",
   "metadata": {
    "heading_collapsed": true
   },
   "source": [
    "## 1431 - The Greatest Number of Candies"
   ]
  },
  {
   "cell_type": "markdown",
   "metadata": {
    "hidden": true
   },
   "source": [
    "Given the array `candies` and the integer `extraCandies`, where `candies[i]` represents the number of candies that the ith kid has.\n",
    "\n",
    "For each kid check if there is a way to distribute `extraCandies` among the kids such that he or she can have the greatest number of candies among them. Notice that multiple kids can have the greatest number of candies.\n",
    "\n",
    "> Input: candies = [2,3,5,1,3], extraCandies = 3\n",
    "> \n",
    "> Output: [true,true,true,false,true] \n",
    "> \n",
    "> Explanation: \n",
    ">\n",
    "> Kid 1 has 2 candies and if he or she receives all extra candies (3) will have 5 candies --- the greatest number of candies among the kids. \n",
    "Kid 2 has 3 candies and if he or she receives at least 2 extra candies will have the greatest number of candies among the kids. \n",
    "Kid 3 has 5 candies and this is already the greatest number of candies among the kids. \n",
    "Kid 4 has 1 candy and even if he or she receives all extra candies will only have 4 candies. \n",
    "Kid 5 has 3 candies and if he or she receives at least 2 extra candies will have the greatest number of candies among the kids. "
   ]
  },
  {
   "cell_type": "code",
   "execution_count": 2,
   "metadata": {
    "ExecuteTime": {
     "end_time": "2021-02-23T15:46:56.985080Z",
     "start_time": "2021-02-23T15:46:56.974269Z"
    },
    "hidden": true
   },
   "outputs": [
    {
     "data": {
      "text/plain": [
       "[True, True, True, False, True]"
      ]
     },
     "execution_count": 2,
     "metadata": {},
     "output_type": "execute_result"
    }
   ],
   "source": [
    "def greatest_number(candies, extra_candies):\n",
    "    results = []\n",
    "    \n",
    "    max_candies = max(candies)\n",
    "    for i in candies:\n",
    "        if i + extra_candies >= max_candies:\n",
    "            results.append(True)\n",
    "        else:\n",
    "            results.append(False)\n",
    "    \n",
    "    return results\n",
    "\n",
    "#test\n",
    "candies = [2, 3, 5, 1, 3]\n",
    "extra_candies = 3\n",
    "outputs = greatest_number(candies, extra_candies)\n",
    "outputs"
   ]
  },
  {
   "cell_type": "markdown",
   "metadata": {},
   "source": [
    "## ToDo"
   ]
  },
  {
   "cell_type": "code",
   "execution_count": null,
   "metadata": {},
   "outputs": [],
   "source": []
  },
  {
   "cell_type": "markdown",
   "metadata": {
    "heading_collapsed": true
   },
   "source": [
    "## ToDo"
   ]
  },
  {
   "cell_type": "markdown",
   "metadata": {
    "heading_collapsed": true
   },
   "source": [
    "## ToDo"
   ]
  },
  {
   "cell_type": "markdown",
   "metadata": {
    "heading_collapsed": true
   },
   "source": [
    "## ToDo"
   ]
  },
  {
   "cell_type": "markdown",
   "metadata": {
    "heading_collapsed": true
   },
   "source": [
    "## ToDo"
   ]
  },
  {
   "cell_type": "markdown",
   "metadata": {
    "heading_collapsed": true
   },
   "source": [
    "## ToDo"
   ]
  },
  {
   "cell_type": "markdown",
   "metadata": {
    "heading_collapsed": true
   },
   "source": [
    "## ToDo"
   ]
  },
  {
   "cell_type": "markdown",
   "metadata": {
    "heading_collapsed": true
   },
   "source": [
    "## ToDo"
   ]
  },
  {
   "cell_type": "code",
   "execution_count": null,
   "metadata": {
    "hidden": true
   },
   "outputs": [],
   "source": []
  }
 ],
 "metadata": {
  "kernelspec": {
   "display_name": "Python 3",
   "language": "python",
   "name": "python3"
  },
  "language_info": {
   "codemirror_mode": {
    "name": "ipython",
    "version": 3
   },
   "file_extension": ".py",
   "mimetype": "text/x-python",
   "name": "python",
   "nbconvert_exporter": "python",
   "pygments_lexer": "ipython3",
   "version": "3.7.6"
  },
  "latex_envs": {
   "LaTeX_envs_menu_present": true,
   "autoclose": false,
   "autocomplete": true,
   "bibliofile": "biblio.bib",
   "cite_by": "apalike",
   "current_citInitial": 1,
   "eqLabelWithNumbers": true,
   "eqNumInitial": 1,
   "hotkeys": {
    "equation": "Ctrl-E",
    "itemize": "Ctrl-I"
   },
   "labels_anchors": false,
   "latex_user_defs": false,
   "report_style_numbering": false,
   "user_envs_cfg": false
  },
  "toc": {
   "base_numbering": 1,
   "nav_menu": {},
   "number_sections": true,
   "sideBar": true,
   "skip_h1_title": true,
   "title_cell": "Table of Contents",
   "title_sidebar": "Contents",
   "toc_cell": true,
   "toc_position": {},
   "toc_section_display": true,
   "toc_window_display": true
  },
  "varInspector": {
   "cols": {
    "lenName": 16,
    "lenType": 16,
    "lenVar": 40
   },
   "kernels_config": {
    "python": {
     "delete_cmd_postfix": "",
     "delete_cmd_prefix": "del ",
     "library": "var_list.py",
     "varRefreshCmd": "print(var_dic_list())"
    },
    "r": {
     "delete_cmd_postfix": ") ",
     "delete_cmd_prefix": "rm(",
     "library": "var_list.r",
     "varRefreshCmd": "cat(var_dic_list()) "
    }
   },
   "types_to_exclude": [
    "module",
    "function",
    "builtin_function_or_method",
    "instance",
    "_Feature"
   ],
   "window_display": false
  }
 },
 "nbformat": 4,
 "nbformat_minor": 4
}
