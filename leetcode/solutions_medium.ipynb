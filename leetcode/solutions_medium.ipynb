{
 "cells": [
  {
   "cell_type": "markdown",
   "metadata": {
    "toc": true
   },
   "source": [
    "<h1>Table of Contents<span class=\"tocSkip\"></span></h1>\n",
    "<div class=\"toc\"><ul class=\"toc-item\"><li><span><a href=\"#739---Daily-Temperatures\" data-toc-modified-id=\"739---Daily-Temperatures-1\"><span class=\"toc-item-num\">1&nbsp;&nbsp;</span>739 - Daily Temperatures</a></span></li><li><span><a href=\"#TODO\" data-toc-modified-id=\"TODO-2\"><span class=\"toc-item-num\">2&nbsp;&nbsp;</span>TODO</a></span></li><li><span><a href=\"#TODO\" data-toc-modified-id=\"TODO-3\"><span class=\"toc-item-num\">3&nbsp;&nbsp;</span>TODO</a></span></li><li><span><a href=\"#TODO\" data-toc-modified-id=\"TODO-4\"><span class=\"toc-item-num\">4&nbsp;&nbsp;</span>TODO</a></span></li><li><span><a href=\"#TODO\" data-toc-modified-id=\"TODO-5\"><span class=\"toc-item-num\">5&nbsp;&nbsp;</span>TODO</a></span></li><li><span><a href=\"#TODO\" data-toc-modified-id=\"TODO-6\"><span class=\"toc-item-num\">6&nbsp;&nbsp;</span>TODO</a></span></li><li><span><a href=\"#TODO\" data-toc-modified-id=\"TODO-7\"><span class=\"toc-item-num\">7&nbsp;&nbsp;</span>TODO</a></span></li></ul></div>"
   ]
  },
  {
   "cell_type": "code",
   "execution_count": 1,
   "metadata": {
    "ExecuteTime": {
     "end_time": "2021-03-06T07:35:24.041414Z",
     "start_time": "2021-03-06T07:35:23.718220Z"
    }
   },
   "outputs": [],
   "source": [
    "import sys\n",
    "import os\n",
    "\n",
    "import numpy as np\n",
    "import pandas as pd\n",
    "\n",
    "import warnings\n",
    "warnings.filterwarnings(\"ignore\")\n",
    "from IPython.core.interactiveshell import InteractiveShell\n",
    "InteractiveShell.ast_node_interactivity = \"all\""
   ]
  },
  {
   "cell_type": "markdown",
   "metadata": {},
   "source": [
    "---"
   ]
  },
  {
   "cell_type": "markdown",
   "metadata": {},
   "source": [
    "## 739 - Daily Temperatures"
   ]
  },
  {
   "cell_type": "markdown",
   "metadata": {},
   "source": [
    "Given a list of daily temperatures `T`, return a list such that, for each day in the input, tells you how many days you would have to wait until a warmer temperature. If there is no future day for which this is possible, put `0` instead.\n",
    "\n",
    "For example, given the list of temperatures `T = [73, 74, 75, 71, 69, 72, 76, 73]`, your output should be `[1, 1, 4, 2, 1, 1, 0, 0]`.\n",
    "\n",
    "* Solution - Youtube: [video link](https://www.youtube.com/watch?v=WGm4Kj3lhRI)"
   ]
  },
  {
   "cell_type": "code",
   "execution_count": 54,
   "metadata": {
    "ExecuteTime": {
     "end_time": "2021-03-09T16:41:35.454475Z",
     "start_time": "2021-03-09T16:41:35.448523Z"
    }
   },
   "outputs": [
    {
     "name": "stdout",
     "output_type": "stream",
     "text": [
      "[1, 1, 4, 2, 1, 1, 0, 0]\n"
     ]
    }
   ],
   "source": [
    "#Stack\n",
    "def waiting_days(T):\n",
    "    results = [0] * len(T)\n",
    "    stack = []\n",
    "    \n",
    "    for i in range(len(T)-1, -1, -1): # dayN, dayN-1 ... day0 <==\n",
    "        while len(stack) > 0 and T[i] >= T[stack[-1]]:\n",
    "            stack.pop()\n",
    "        if len(stack) > 0: # T[i] < T[stack[-1]]\n",
    "            results[i] = stack[-1] - i\n",
    "        stack.append(i)\n",
    "        \n",
    "    return results\n",
    "            \n",
    "            \n",
    "#test\n",
    "T = [73, 74, 75, 71, 69, 72, 76, 73]\n",
    "result = waiting_days(T)\n",
    "print(result) "
   ]
  },
  {
   "cell_type": "code",
   "execution_count": 55,
   "metadata": {
    "ExecuteTime": {
     "end_time": "2021-03-09T16:46:10.980391Z",
     "start_time": "2021-03-09T16:46:10.974067Z"
    }
   },
   "outputs": [
    {
     "name": "stdout",
     "output_type": "stream",
     "text": [
      "[1, 1, 4, 2, 1, 1, 0, 0]\n"
     ]
    }
   ],
   "source": [
    "#DRAFT\n",
    "def waiting_warmer_days(T):\n",
    "    results = []\n",
    "    for index, value in enumerate(T):\n",
    "        if index == len(T)-1:\n",
    "            results.append(0)\n",
    "            break\n",
    "            \n",
    "        temp_list = T[index+1:]\n",
    "        max_value = max(temp_list)\n",
    "        if value >= max_value:\n",
    "            results.append(0)\n",
    "        else:\n",
    "            count = 1\n",
    "            for i in temp_list:\n",
    "                if value >= i:\n",
    "                    count += 1\n",
    "                else:\n",
    "                    results.append(count)\n",
    "                    break\n",
    "        \n",
    "    return results\n",
    "\n",
    "\n",
    "#test\n",
    "T = [73, 74, 75, 71, 69, 72, 76, 73]\n",
    "result = waiting_warmer_days(T)\n",
    "print(result)"
   ]
  },
  {
   "cell_type": "code",
   "execution_count": null,
   "metadata": {},
   "outputs": [],
   "source": []
  },
  {
   "cell_type": "markdown",
   "metadata": {},
   "source": [
    "## TODO"
   ]
  },
  {
   "cell_type": "markdown",
   "metadata": {},
   "source": [
    "## TODO"
   ]
  },
  {
   "cell_type": "markdown",
   "metadata": {},
   "source": [
    "## TODO"
   ]
  },
  {
   "cell_type": "markdown",
   "metadata": {},
   "source": [
    "## TODO"
   ]
  },
  {
   "cell_type": "markdown",
   "metadata": {},
   "source": [
    "## TODO"
   ]
  },
  {
   "cell_type": "markdown",
   "metadata": {},
   "source": [
    "## TODO"
   ]
  },
  {
   "cell_type": "code",
   "execution_count": null,
   "metadata": {},
   "outputs": [],
   "source": []
  },
  {
   "cell_type": "code",
   "execution_count": null,
   "metadata": {},
   "outputs": [],
   "source": []
  },
  {
   "cell_type": "code",
   "execution_count": null,
   "metadata": {},
   "outputs": [],
   "source": []
  },
  {
   "cell_type": "code",
   "execution_count": null,
   "metadata": {},
   "outputs": [],
   "source": []
  }
 ],
 "metadata": {
  "kernelspec": {
   "display_name": "Python 3",
   "language": "python",
   "name": "python3"
  },
  "language_info": {
   "codemirror_mode": {
    "name": "ipython",
    "version": 3
   },
   "file_extension": ".py",
   "mimetype": "text/x-python",
   "name": "python",
   "nbconvert_exporter": "python",
   "pygments_lexer": "ipython3",
   "version": "3.7.6"
  },
  "toc": {
   "base_numbering": 1,
   "nav_menu": {},
   "number_sections": true,
   "sideBar": true,
   "skip_h1_title": true,
   "title_cell": "Table of Contents",
   "title_sidebar": "Contents",
   "toc_cell": true,
   "toc_position": {},
   "toc_section_display": true,
   "toc_window_display": false
  },
  "varInspector": {
   "cols": {
    "lenName": 16,
    "lenType": 16,
    "lenVar": 40
   },
   "kernels_config": {
    "python": {
     "delete_cmd_postfix": "",
     "delete_cmd_prefix": "del ",
     "library": "var_list.py",
     "varRefreshCmd": "print(var_dic_list())"
    },
    "r": {
     "delete_cmd_postfix": ") ",
     "delete_cmd_prefix": "rm(",
     "library": "var_list.r",
     "varRefreshCmd": "cat(var_dic_list()) "
    }
   },
   "types_to_exclude": [
    "module",
    "function",
    "builtin_function_or_method",
    "instance",
    "_Feature"
   ],
   "window_display": false
  }
 },
 "nbformat": 4,
 "nbformat_minor": 4
}
