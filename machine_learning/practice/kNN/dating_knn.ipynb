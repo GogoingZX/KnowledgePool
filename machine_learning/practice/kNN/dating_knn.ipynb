{
 "cells": [
  {
   "cell_type": "markdown",
   "metadata": {
    "toc": true
   },
   "source": [
    "<h1>Table of Contents<span class=\"tocSkip\"></span></h1>\n",
    "<div class=\"toc\"><ul class=\"toc-item\"><li><span><a href=\"#Concept\" data-toc-modified-id=\"Concept-1\"><span class=\"toc-item-num\">1&nbsp;&nbsp;</span>Concept</a></span></li><li><span><a href=\"#Practice\" data-toc-modified-id=\"Practice-2\"><span class=\"toc-item-num\">2&nbsp;&nbsp;</span>Practice</a></span></li></ul></div>"
   ]
  },
  {
   "cell_type": "code",
   "execution_count": 1,
   "metadata": {
    "ExecuteTime": {
     "end_time": "2021-03-09T17:21:57.129050Z",
     "start_time": "2021-03-09T17:21:56.568455Z"
    }
   },
   "outputs": [],
   "source": [
    "import sys\n",
    "import os\n",
    "import time\n",
    "import datetime\n",
    "import re\n",
    "\n",
    "import numpy as np\n",
    "import pandas as pd\n",
    "import matplotlib.pyplot as plt\n",
    "\n",
    "import warnings\n",
    "warnings.filterwarnings(\"ignore\")\n",
    "from IPython.core.interactiveshell import InteractiveShell\n",
    "InteractiveShell.ast_node_interactivity = \"all\""
   ]
  },
  {
   "cell_type": "markdown",
   "metadata": {},
   "source": [
    "---"
   ]
  },
  {
   "cell_type": "markdown",
   "metadata": {},
   "source": [
    "## Concept"
   ]
  },
  {
   "cell_type": "code",
   "execution_count": 2,
   "metadata": {
    "ExecuteTime": {
     "end_time": "2021-03-09T17:21:58.013428Z",
     "start_time": "2021-03-09T17:21:58.008903Z"
    }
   },
   "outputs": [],
   "source": [
    "def create_test_data():\n",
    "    group = np.array(\n",
    "        [[1.2, 1.1],\n",
    "        [0.9, 0.7],\n",
    "        [0, 0],\n",
    "        [0, 0.3],\n",
    "        [0.3, 0.2],\n",
    "        [0.8, 0.6],\n",
    "        [0.9, 0.8]]\n",
    "    )\n",
    "    labels = [\"A\", \"A\", \"B\", \"B\", \"B\", \"A\", \"A\"]\n",
    "    \n",
    "    data_set = pd.DataFrame(group, columns=[\"x\", \"y\"])\n",
    "    data_set[\"label\"] = labels\n",
    "    \n",
    "    return data_set"
   ]
  },
  {
   "cell_type": "markdown",
   "metadata": {},
   "source": [
    "$distance=\\sqrt{(A_0-B_0)^2 + (A_1-B_1)^2}$"
   ]
  },
  {
   "cell_type": "code",
   "execution_count": 3,
   "metadata": {
    "ExecuteTime": {
     "end_time": "2021-03-09T17:21:59.116354Z",
     "start_time": "2021-03-09T17:21:58.940214Z"
    }
   },
   "outputs": [
    {
     "data": {
      "text/html": [
       "<div>\n",
       "<style scoped>\n",
       "    .dataframe tbody tr th:only-of-type {\n",
       "        vertical-align: middle;\n",
       "    }\n",
       "\n",
       "    .dataframe tbody tr th {\n",
       "        vertical-align: top;\n",
       "    }\n",
       "\n",
       "    .dataframe thead th {\n",
       "        text-align: right;\n",
       "    }\n",
       "</style>\n",
       "<table border=\"1\" class=\"dataframe\">\n",
       "  <thead>\n",
       "    <tr style=\"text-align: right;\">\n",
       "      <th></th>\n",
       "      <th>x</th>\n",
       "      <th>y</th>\n",
       "      <th>label</th>\n",
       "    </tr>\n",
       "  </thead>\n",
       "  <tbody>\n",
       "    <tr>\n",
       "      <th>0</th>\n",
       "      <td>1.2</td>\n",
       "      <td>1.1</td>\n",
       "      <td>A</td>\n",
       "    </tr>\n",
       "    <tr>\n",
       "      <th>1</th>\n",
       "      <td>0.9</td>\n",
       "      <td>0.7</td>\n",
       "      <td>A</td>\n",
       "    </tr>\n",
       "    <tr>\n",
       "      <th>2</th>\n",
       "      <td>0.0</td>\n",
       "      <td>0.0</td>\n",
       "      <td>B</td>\n",
       "    </tr>\n",
       "    <tr>\n",
       "      <th>3</th>\n",
       "      <td>0.0</td>\n",
       "      <td>0.3</td>\n",
       "      <td>B</td>\n",
       "    </tr>\n",
       "    <tr>\n",
       "      <th>4</th>\n",
       "      <td>0.3</td>\n",
       "      <td>0.2</td>\n",
       "      <td>B</td>\n",
       "    </tr>\n",
       "    <tr>\n",
       "      <th>5</th>\n",
       "      <td>0.8</td>\n",
       "      <td>0.6</td>\n",
       "      <td>A</td>\n",
       "    </tr>\n",
       "    <tr>\n",
       "      <th>6</th>\n",
       "      <td>0.9</td>\n",
       "      <td>0.8</td>\n",
       "      <td>A</td>\n",
       "    </tr>\n",
       "  </tbody>\n",
       "</table>\n",
       "</div>"
      ],
      "text/plain": [
       "     x    y label\n",
       "0  1.2  1.1     A\n",
       "1  0.9  0.7     A\n",
       "2  0.0  0.0     B\n",
       "3  0.0  0.3     B\n",
       "4  0.3  0.2     B\n",
       "5  0.8  0.6     A\n",
       "6  0.9  0.8     A"
      ]
     },
     "execution_count": 3,
     "metadata": {},
     "output_type": "execute_result"
    },
    {
     "data": {
      "text/plain": [
       "{'distance_details': {'A': 3, 'B': 1},\n",
       " 'sorted_distance': [('A', 3), ('B', 1)],\n",
       " 'predict_label': 'A'}"
      ]
     },
     "execution_count": 3,
     "metadata": {},
     "output_type": "execute_result"
    },
    {
     "data": {
      "text/plain": [
       "<matplotlib.collections.PathCollection at 0x7fa37cb58ad0>"
      ]
     },
     "execution_count": 3,
     "metadata": {},
     "output_type": "execute_result"
    },
    {
     "data": {
      "text/plain": [
       "[<matplotlib.lines.Line2D at 0x7fa37f5dafd0>]"
      ]
     },
     "execution_count": 3,
     "metadata": {},
     "output_type": "execute_result"
    },
    {
     "data": {
      "image/png": "[encoded data removed]",
      "text/plain": [
       "<Figure size 432x288 with 1 Axes>"
      ]
     },
     "metadata": {
      "needs_background": "light"
     },
     "output_type": "display_data"
    }
   ],
   "source": [
    "def classify_knn(single_vector, training_df, k):\n",
    "    import operator\n",
    "    \n",
    "    row_cnt = training_df.shape[0]\n",
    "    pure_data = training_df[[\"x\", \"y\"]].values\n",
    "    labels = training_df[\"label\"].to_list()\n",
    "    \n",
    "    diff = np.tile(single_vector, (row_cnt, 1)) - pure_data\n",
    "    diff_sq = diff**2\n",
    "    distance = (diff_sq.sum(axis=1))**0.5 # d=1\n",
    "    \n",
    "    # sorted, in order to choose k nearest labels\n",
    "    sorted_distance_index = distance.argsort() \n",
    "    \n",
    "    class_count = {} #class_count = {'label': label_cnt}\n",
    "    for i in range(k):\n",
    "        vote_label = labels[sorted_distance_index[i]]\n",
    "        class_count[vote_label] = class_count.get(vote_label, 0) + 1\n",
    "    \n",
    "    sorted_class_count = sorted(\n",
    "        class_count.items(),\n",
    "        key=operator.itemgetter(1), # use the dict value as key\n",
    "        reverse=True\n",
    "    )\n",
    "    \n",
    "    results = {\n",
    "        \"distance_details\": class_count,\n",
    "        \"sorted_distance\": sorted_class_count,\n",
    "        \"predict_label\": sorted_class_count[0][0]\n",
    "    }\n",
    "    #predict_lable = sorted_class_count[0][0]\n",
    "    return results\n",
    "    \n",
    "\n",
    "#test\n",
    "training_df = create_test_data()\n",
    "training_data = training_df[[\"x\", \"y\"]]\n",
    "input_vector=[0.5, 0.6]\n",
    "training_df\n",
    "\n",
    "\n",
    "results = classify_knn(\n",
    "    single_vector=input_vector,\n",
    "    training_df=training_df,\n",
    "    k=4\n",
    ")\n",
    "results\n",
    "\n",
    "#plt.plot(training_data[\"x\"], training_data[\"y\"], \"o\")\n",
    "plt.scatter(training_data[\"x\"], training_data[\"y\"])\n",
    "plt.plot(input_vector[0], input_vector[1], \"o\", color=\"red\")"
   ]
  },
  {
   "cell_type": "markdown",
   "metadata": {},
   "source": [
    "## Practice"
   ]
  },
  {
   "cell_type": "code",
   "execution_count": 4,
   "metadata": {
    "ExecuteTime": {
     "end_time": "2021-03-09T17:21:59.681449Z",
     "start_time": "2021-03-09T17:21:59.670869Z"
    }
   },
   "outputs": [],
   "source": [
    "rawdata_filepath = \"data/dating_data.txt\"\n",
    "\n",
    "#========== convert raw data to matrix\n",
    "# column1: yearly flight miles; \n",
    "# column2: the time pct for playing vedio games \n",
    "# column3: the volume of weekly ice-cream consuming \n",
    "# column4: labels\n",
    "with open(rawdata_filepath) as f:\n",
    "    lines = f.readlines()\n",
    "    number_of_lines = len(lines)\n",
    "    \n",
    "    rawdata_matrix = np.zeros((number_of_lines, 3)) #\n",
    "    rawdata_labels = [] #\n",
    "    index = 0\n",
    "    for line in lines:\n",
    "        line = line.strip()\n",
    "        elements = line.split(\"\\t\")\n",
    "        rawdata_matrix[index, :] = elements[0:3]\n",
    "        rawdata_labels.append(int(elements[-1]))\n",
    "        index += 1"
   ]
  },
  {
   "cell_type": "code",
   "execution_count": 24,
   "metadata": {
    "ExecuteTime": {
     "end_time": "2021-03-09T17:47:41.517436Z",
     "start_time": "2021-03-09T17:47:41.333218Z"
    }
   },
   "outputs": [
    {
     "data": {
      "text/plain": [
       "Text(0.5, 0, 'Yearly flight miles')"
      ]
     },
     "execution_count": 24,
     "metadata": {},
     "output_type": "execute_result"
    },
    {
     "data": {
      "text/plain": [
       "Text(0, 0.5, 'Time pct for playing vedio games')"
      ]
     },
     "execution_count": 24,
     "metadata": {},
     "output_type": "execute_result"
    },
    {
     "data": {
      "text/plain": [
       "<matplotlib.legend.Legend at 0x7fa3805ccc90>"
      ]
     },
     "execution_count": 24,
     "metadata": {},
     "output_type": "execute_result"
    },
    {
     "data": {
      "image/png": "[encoded data removed]",
      "text/plain": [
       "<Figure size 432x288 with 1 Axes>"
      ]
     },
     "metadata": {
      "needs_background": "light"
     },
     "output_type": "display_data"
    }
   ],
   "source": [
    "#========== plot raw data\n",
    "fig = plt.figure()\n",
    "ax = fig.add_subplot(111)\n",
    "\n",
    "\n",
    "type1_x, type1_y = [], []\n",
    "type2_x, type2_y = [], []\n",
    "type3_x, type3_y = [], []\n",
    "for i in range(rawdata_matrix.shape[0]):\n",
    "    if rawdata_labels[i] == 1:\n",
    "        type1_x.append(rawdata_matrix[i][0])\n",
    "        type1_y.append(rawdata_matrix[i][1])\n",
    "    elif rawdata_labels[i] == 2:\n",
    "        type2_x.append(rawdata_matrix[i][0])\n",
    "        type2_y.append(rawdata_matrix[i][1])\n",
    "    else:\n",
    "        type3_x.append(rawdata_matrix[i][0])\n",
    "        type3_y.append(rawdata_matrix[i][1])\n",
    "    \n",
    "type1 = ax.scatter(\n",
    "    x=type1_x,\n",
    "    y=type1_y,\n",
    "    s=1.5,\n",
    "    c=\"red\"\n",
    ")\n",
    "type2 = ax.scatter(\n",
    "    x=type2_x,\n",
    "    y=type2_y,\n",
    "    s=1.5,\n",
    "    c=\"blue\"\n",
    ")\n",
    "type3 = ax.scatter(\n",
    "    x=type3_x,\n",
    "    y=type3_y,\n",
    "    s=1.5,\n",
    "    c=\"green\"\n",
    ")\n",
    "\n",
    "plt.xlabel(\"Yearly flight miles\")\n",
    "plt.ylabel(\"Time pct for playing vedio games\")\n",
    "plt.legend(\n",
    "    handles=(type1, type2, type3),\n",
    "    labels=(\"Bad\", \"Normal\", \"Good\")\n",
    ")\n",
    "plt.show()"
   ]
  },
  {
   "cell_type": "code",
   "execution_count": 34,
   "metadata": {
    "ExecuteTime": {
     "end_time": "2021-03-10T10:47:08.907113Z",
     "start_time": "2021-03-10T10:47:08.477411Z"
    }
   },
   "outputs": [
    {
     "data": {
      "text/plain": [
       "orderid          True\n",
       "ordersn          True\n",
       "seller_userid    True\n",
       "grass_region     True\n",
       "actual_amount    True\n",
       "Remark           True\n",
       "Update time      True\n",
       "dtype: bool"
      ]
     },
     "execution_count": 34,
     "metadata": {},
     "output_type": "execute_result"
    }
   ],
   "source": [
    "df = pd.read_csv(\n",
    "    \"/Users/xu.zhu/Desktop/Data/CBSIP_Payment/BR/2021-03-10/MYBR_Order_20210309.csv\",\n",
    "    encoding=\"utf-8-sig\"\n",
    ")\n",
    "\n",
    "df.isnull().any()"
   ]
  },
  {
   "cell_type": "code",
   "execution_count": 35,
   "metadata": {
    "ExecuteTime": {
     "end_time": "2021-03-10T10:47:09.537634Z",
     "start_time": "2021-03-10T10:47:09.523198Z"
    }
   },
   "outputs": [
    {
     "data": {
      "text/html": [
       "<div>\n",
       "<style scoped>\n",
       "    .dataframe tbody tr th:only-of-type {\n",
       "        vertical-align: middle;\n",
       "    }\n",
       "\n",
       "    .dataframe tbody tr th {\n",
       "        vertical-align: top;\n",
       "    }\n",
       "\n",
       "    .dataframe thead th {\n",
       "        text-align: right;\n",
       "    }\n",
       "</style>\n",
       "<table border=\"1\" class=\"dataframe\">\n",
       "  <thead>\n",
       "    <tr style=\"text-align: right;\">\n",
       "      <th></th>\n",
       "      <th>orderid</th>\n",
       "      <th>ordersn</th>\n",
       "      <th>seller_userid</th>\n",
       "      <th>grass_region</th>\n",
       "      <th>actual_amount</th>\n",
       "      <th>Remark</th>\n",
       "      <th>Update time</th>\n",
       "    </tr>\n",
       "  </thead>\n",
       "  <tbody>\n",
       "    <tr>\n",
       "      <th>292455</th>\n",
       "      <td>NaN</td>\n",
       "      <td>NaN</td>\n",
       "      <td>NaN</td>\n",
       "      <td>NaN</td>\n",
       "      <td>NaN</td>\n",
       "      <td>NaN</td>\n",
       "      <td>NaN</td>\n",
       "    </tr>\n",
       "    <tr>\n",
       "      <th>292456</th>\n",
       "      <td>NaN</td>\n",
       "      <td>NaN</td>\n",
       "      <td>NaN</td>\n",
       "      <td>NaN</td>\n",
       "      <td>NaN</td>\n",
       "      <td>NaN</td>\n",
       "      <td>NaN</td>\n",
       "    </tr>\n",
       "    <tr>\n",
       "      <th>292457</th>\n",
       "      <td>NaN</td>\n",
       "      <td>NaN</td>\n",
       "      <td>NaN</td>\n",
       "      <td>NaN</td>\n",
       "      <td>NaN</td>\n",
       "      <td>NaN</td>\n",
       "      <td>NaN</td>\n",
       "    </tr>\n",
       "    <tr>\n",
       "      <th>292458</th>\n",
       "      <td>NaN</td>\n",
       "      <td>NaN</td>\n",
       "      <td>NaN</td>\n",
       "      <td>NaN</td>\n",
       "      <td>NaN</td>\n",
       "      <td>NaN</td>\n",
       "      <td>NaN</td>\n",
       "    </tr>\n",
       "    <tr>\n",
       "      <th>292459</th>\n",
       "      <td>NaN</td>\n",
       "      <td>NaN</td>\n",
       "      <td>NaN</td>\n",
       "      <td>NaN</td>\n",
       "      <td>NaN</td>\n",
       "      <td>NaN</td>\n",
       "      <td>NaN</td>\n",
       "    </tr>\n",
       "    <tr>\n",
       "      <th>...</th>\n",
       "      <td>...</td>\n",
       "      <td>...</td>\n",
       "      <td>...</td>\n",
       "      <td>...</td>\n",
       "      <td>...</td>\n",
       "      <td>...</td>\n",
       "      <td>...</td>\n",
       "    </tr>\n",
       "    <tr>\n",
       "      <th>293035</th>\n",
       "      <td>NaN</td>\n",
       "      <td>NaN</td>\n",
       "      <td>NaN</td>\n",
       "      <td>NaN</td>\n",
       "      <td>NaN</td>\n",
       "      <td>NaN</td>\n",
       "      <td>NaN</td>\n",
       "    </tr>\n",
       "    <tr>\n",
       "      <th>293036</th>\n",
       "      <td>NaN</td>\n",
       "      <td>NaN</td>\n",
       "      <td>NaN</td>\n",
       "      <td>NaN</td>\n",
       "      <td>NaN</td>\n",
       "      <td>NaN</td>\n",
       "      <td>NaN</td>\n",
       "    </tr>\n",
       "    <tr>\n",
       "      <th>293037</th>\n",
       "      <td>NaN</td>\n",
       "      <td>NaN</td>\n",
       "      <td>NaN</td>\n",
       "      <td>NaN</td>\n",
       "      <td>NaN</td>\n",
       "      <td>NaN</td>\n",
       "      <td>NaN</td>\n",
       "    </tr>\n",
       "    <tr>\n",
       "      <th>293038</th>\n",
       "      <td>NaN</td>\n",
       "      <td>NaN</td>\n",
       "      <td>NaN</td>\n",
       "      <td>NaN</td>\n",
       "      <td>NaN</td>\n",
       "      <td>NaN</td>\n",
       "      <td>NaN</td>\n",
       "    </tr>\n",
       "    <tr>\n",
       "      <th>293039</th>\n",
       "      <td>NaN</td>\n",
       "      <td>NaN</td>\n",
       "      <td>NaN</td>\n",
       "      <td>NaN</td>\n",
       "      <td>NaN</td>\n",
       "      <td>NaN</td>\n",
       "      <td>NaN</td>\n",
       "    </tr>\n",
       "  </tbody>\n",
       "</table>\n",
       "<p>585 rows × 7 columns</p>\n",
       "</div>"
      ],
      "text/plain": [
       "        orderid ordersn  seller_userid grass_region  actual_amount Remark  \\\n",
       "292455      NaN     NaN            NaN          NaN            NaN    NaN   \n",
       "292456      NaN     NaN            NaN          NaN            NaN    NaN   \n",
       "292457      NaN     NaN            NaN          NaN            NaN    NaN   \n",
       "292458      NaN     NaN            NaN          NaN            NaN    NaN   \n",
       "292459      NaN     NaN            NaN          NaN            NaN    NaN   \n",
       "...         ...     ...            ...          ...            ...    ...   \n",
       "293035      NaN     NaN            NaN          NaN            NaN    NaN   \n",
       "293036      NaN     NaN            NaN          NaN            NaN    NaN   \n",
       "293037      NaN     NaN            NaN          NaN            NaN    NaN   \n",
       "293038      NaN     NaN            NaN          NaN            NaN    NaN   \n",
       "293039      NaN     NaN            NaN          NaN            NaN    NaN   \n",
       "\n",
       "       Update time  \n",
       "292455         NaN  \n",
       "292456         NaN  \n",
       "292457         NaN  \n",
       "292458         NaN  \n",
       "292459         NaN  \n",
       "...            ...  \n",
       "293035         NaN  \n",
       "293036         NaN  \n",
       "293037         NaN  \n",
       "293038         NaN  \n",
       "293039         NaN  \n",
       "\n",
       "[585 rows x 7 columns]"
      ]
     },
     "execution_count": 35,
     "metadata": {},
     "output_type": "execute_result"
    }
   ],
   "source": [
    "df[df[\"orderid\"].isnull()]"
   ]
  },
  {
   "cell_type": "code",
   "execution_count": 33,
   "metadata": {
    "ExecuteTime": {
     "end_time": "2021-03-10T10:44:21.116782Z",
     "start_time": "2021-03-10T10:44:19.384320Z"
    }
   },
   "outputs": [],
   "source": [
    "df = df[~df[\"orderid\"].isnull()]\n",
    "df.to_csv(\n",
    "    \"/Users/xu.zhu/Desktop/Data/CBSIP_Payment/BR/2021-03-10/MYBR_Order_20210309.csv\",\n",
    "    encoding=\"utf-8-sig\",\n",
    "    index=False\n",
    ")"
   ]
  },
  {
   "cell_type": "code",
   "execution_count": null,
   "metadata": {},
   "outputs": [],
   "source": []
  }
 ],
 "metadata": {
  "kernelspec": {
   "display_name": "Python 3",
   "language": "python",
   "name": "python3"
  },
  "language_info": {
   "codemirror_mode": {
    "name": "ipython",
    "version": 3
   },
   "file_extension": ".py",
   "mimetype": "text/x-python",
   "name": "python",
   "nbconvert_exporter": "python",
   "pygments_lexer": "ipython3",
   "version": "3.7.6"
  },
  "toc": {
   "base_numbering": 1,
   "nav_menu": {},
   "number_sections": true,
   "sideBar": true,
   "skip_h1_title": true,
   "title_cell": "Table of Contents",
   "title_sidebar": "Contents",
   "toc_cell": true,
   "toc_position": {},
   "toc_section_display": true,
   "toc_window_display": false
  },
  "varInspector": {
   "cols": {
    "lenName": 16,
    "lenType": 16,
    "lenVar": 40
   },
   "kernels_config": {
    "python": {
     "delete_cmd_postfix": "",
     "delete_cmd_prefix": "del ",
     "library": "var_list.py",
     "varRefreshCmd": "print(var_dic_list())"
    },
    "r": {
     "delete_cmd_postfix": ") ",
     "delete_cmd_prefix": "rm(",
     "library": "var_list.r",
     "varRefreshCmd": "cat(var_dic_list()) "
    }
   },
   "position": {
    "height": "655px",
    "left": "530px",
    "right": "20px",
    "top": "120px",
    "width": "270px"
   },
   "types_to_exclude": [
    "module",
    "function",
    "builtin_function_or_method",
    "instance",
    "_Feature"
   ],
   "window_display": false
  }
 },
 "nbformat": 4,
 "nbformat_minor": 4
}
