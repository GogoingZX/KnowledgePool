{
 "cells": [
  {
   "cell_type": "markdown",
   "metadata": {
    "toc": true
   },
   "source": [
    "<h1>Table of Contents<span class=\"tocSkip\"></span></h1>\n",
    "<div class=\"toc\"><ul class=\"toc-item\"></ul></div>"
   ]
  },
  {
   "cell_type": "code",
   "execution_count": 75,
   "metadata": {
    "ExecuteTime": {
     "end_time": "2021-03-04T17:26:55.367341Z",
     "start_time": "2021-03-04T17:26:55.363291Z"
    }
   },
   "outputs": [],
   "source": [
    "import sys\n",
    "import os\n",
    "import time\n",
    "import datetime\n",
    "import re\n",
    "\n",
    "import numpy as np\n",
    "import pandas as pd\n",
    "import matplotlib.pyplot as plt\n",
    "\n",
    "import warnings\n",
    "warnings.filterwarnings(\"ignore\")\n",
    "from IPython.core.interactiveshell import InteractiveShell\n",
    "InteractiveShell.ast_node_interactivity = \"all\""
   ]
  },
  {
   "cell_type": "markdown",
   "metadata": {},
   "source": [
    "---"
   ]
  },
  {
   "cell_type": "code",
   "execution_count": 90,
   "metadata": {
    "ExecuteTime": {
     "end_time": "2021-03-04T17:34:52.066385Z",
     "start_time": "2021-03-04T17:34:52.061733Z"
    }
   },
   "outputs": [],
   "source": [
    "def create_test_data():\n",
    "    group = np.array(\n",
    "        [[1.2, 1.1],\n",
    "        [0.9, 0.7],\n",
    "        [0, 0],\n",
    "        [0, 0.3],\n",
    "        [0.3, 0.2],\n",
    "        [0.8, 0.6],\n",
    "        [0.9, 0.8]]\n",
    "    )\n",
    "    labels = [\"A\", \"A\", \"B\", \"B\", \"B\", \"A\", \"A\"]\n",
    "    \n",
    "    data_set = pd.DataFrame(group, columns=[\"x\", \"y\"])\n",
    "    data_set[\"label\"] = labels\n",
    "    \n",
    "    return data_set"
   ]
  },
  {
   "cell_type": "markdown",
   "metadata": {},
   "source": [
    "$distance=\\sqrt{(A_0-B_0)^2 + (A_1-B_1)^2}$"
   ]
  },
  {
   "cell_type": "code",
   "execution_count": 91,
   "metadata": {
    "ExecuteTime": {
     "end_time": "2021-03-04T17:34:52.820820Z",
     "start_time": "2021-03-04T17:34:52.677574Z"
    }
   },
   "outputs": [
    {
     "data": {
      "text/html": [
       "<div>\n",
       "<style scoped>\n",
       "    .dataframe tbody tr th:only-of-type {\n",
       "        vertical-align: middle;\n",
       "    }\n",
       "\n",
       "    .dataframe tbody tr th {\n",
       "        vertical-align: top;\n",
       "    }\n",
       "\n",
       "    .dataframe thead th {\n",
       "        text-align: right;\n",
       "    }\n",
       "</style>\n",
       "<table border=\"1\" class=\"dataframe\">\n",
       "  <thead>\n",
       "    <tr style=\"text-align: right;\">\n",
       "      <th></th>\n",
       "      <th>x</th>\n",
       "      <th>y</th>\n",
       "      <th>label</th>\n",
       "    </tr>\n",
       "  </thead>\n",
       "  <tbody>\n",
       "    <tr>\n",
       "      <th>0</th>\n",
       "      <td>1.2</td>\n",
       "      <td>1.1</td>\n",
       "      <td>A</td>\n",
       "    </tr>\n",
       "    <tr>\n",
       "      <th>1</th>\n",
       "      <td>0.9</td>\n",
       "      <td>0.7</td>\n",
       "      <td>A</td>\n",
       "    </tr>\n",
       "    <tr>\n",
       "      <th>2</th>\n",
       "      <td>0.0</td>\n",
       "      <td>0.0</td>\n",
       "      <td>B</td>\n",
       "    </tr>\n",
       "    <tr>\n",
       "      <th>3</th>\n",
       "      <td>0.0</td>\n",
       "      <td>0.3</td>\n",
       "      <td>B</td>\n",
       "    </tr>\n",
       "    <tr>\n",
       "      <th>4</th>\n",
       "      <td>0.3</td>\n",
       "      <td>0.2</td>\n",
       "      <td>B</td>\n",
       "    </tr>\n",
       "    <tr>\n",
       "      <th>5</th>\n",
       "      <td>0.8</td>\n",
       "      <td>0.6</td>\n",
       "      <td>A</td>\n",
       "    </tr>\n",
       "    <tr>\n",
       "      <th>6</th>\n",
       "      <td>0.9</td>\n",
       "      <td>0.8</td>\n",
       "      <td>A</td>\n",
       "    </tr>\n",
       "  </tbody>\n",
       "</table>\n",
       "</div>"
      ],
      "text/plain": [
       "     x    y label\n",
       "0  1.2  1.1     A\n",
       "1  0.9  0.7     A\n",
       "2  0.0  0.0     B\n",
       "3  0.0  0.3     B\n",
       "4  0.3  0.2     B\n",
       "5  0.8  0.6     A\n",
       "6  0.9  0.8     A"
      ]
     },
     "execution_count": 91,
     "metadata": {},
     "output_type": "execute_result"
    },
    {
     "data": {
      "text/plain": [
       "{'distance_details': {'A': 3, 'B': 1},\n",
       " 'sorted_distance': [('A', 3), ('B', 1)],\n",
       " 'predict_label': 'A'}"
      ]
     },
     "execution_count": 91,
     "metadata": {},
     "output_type": "execute_result"
    },
    {
     "data": {
      "text/plain": [
       "<matplotlib.collections.PathCollection at 0x7fe6fd2ce790>"
      ]
     },
     "execution_count": 91,
     "metadata": {},
     "output_type": "execute_result"
    },
    {
     "data": {
      "text/plain": [
       "[<matplotlib.lines.Line2D at 0x7fe6fd60fcd0>]"
      ]
     },
     "execution_count": 91,
     "metadata": {},
     "output_type": "execute_result"
    },
    {
     "data": {
      "image/png": "[encoded data removed]",
      "text/plain": [
       "<Figure size 432x288 with 1 Axes>"
      ]
     },
     "metadata": {
      "needs_background": "light"
     },
     "output_type": "display_data"
    }
   ],
   "source": [
    "def classify_knn(single_vector, training_df, k):\n",
    "    import operator\n",
    "    \n",
    "    row_cnt = training_df.shape[0]\n",
    "    pure_data = training_df[[\"x\", \"y\"]].values\n",
    "    labels = training_df[\"label\"].to_list()\n",
    "    \n",
    "    diff = np.tile(single_vector, (row_cnt, 1)) - pure_data\n",
    "    diff_sq = diff**2\n",
    "    distance = (diff_sq.sum(axis=1))**0.5 # d=1\n",
    "    \n",
    "    # sorted, in order to choose k nearest labels\n",
    "    sorted_distance_index = distance.argsort() \n",
    "    \n",
    "    class_count = {} #class_count = {'label': label_cnt}\n",
    "    for i in range(k):\n",
    "        vote_label = labels[sorted_distance_index[i]]\n",
    "        class_count[vote_label] = class_count.get(vote_label, 0) + 1\n",
    "    \n",
    "    sorted_class_count = sorted(\n",
    "        class_count.items(),\n",
    "        key=operator.itemgetter(1), # use the dict value as key\n",
    "        reverse=True\n",
    "    )\n",
    "    \n",
    "    results = {\n",
    "        \"distance_details\": class_count,\n",
    "        \"sorted_distance\": sorted_class_count,\n",
    "        \"predict_label\": sorted_class_count[0][0]\n",
    "    }\n",
    "    #predict_lable = sorted_class_count[0][0]\n",
    "    return results\n",
    "    \n",
    "\n",
    "#test\n",
    "training_df = create_test_data()\n",
    "training_data = training_df[[\"x\", \"y\"]]\n",
    "input_vector=[0.5, 0.6]\n",
    "training_df\n",
    "\n",
    "\n",
    "results = classify_knn(\n",
    "    single_vector=input_vector,\n",
    "    training_df=training_df,\n",
    "    k=4\n",
    ")\n",
    "results\n",
    "\n",
    "#plt.plot(training_data[\"x\"], training_data[\"y\"], \"o\")\n",
    "plt.scatter(training_data[\"x\"], training_data[\"y\"])\n",
    "plt.plot(input_vector[0], input_vector[1], \"o\", color=\"red\")"
   ]
  },
  {
   "cell_type": "code",
   "execution_count": null,
   "metadata": {},
   "outputs": [],
   "source": []
  }
 ],
 "metadata": {
  "kernelspec": {
   "display_name": "Python 3",
   "language": "python",
   "name": "python3"
  },
  "language_info": {
   "codemirror_mode": {
    "name": "ipython",
    "version": 3
   },
   "file_extension": ".py",
   "mimetype": "text/x-python",
   "name": "python",
   "nbconvert_exporter": "python",
   "pygments_lexer": "ipython3",
   "version": "3.7.6"
  },
  "toc": {
   "base_numbering": 1,
   "nav_menu": {},
   "number_sections": true,
   "sideBar": true,
   "skip_h1_title": true,
   "title_cell": "Table of Contents",
   "title_sidebar": "Contents",
   "toc_cell": true,
   "toc_position": {},
   "toc_section_display": true,
   "toc_window_display": false
  },
  "varInspector": {
   "cols": {
    "lenName": 16,
    "lenType": 16,
    "lenVar": 40
   },
   "kernels_config": {
    "python": {
     "delete_cmd_postfix": "",
     "delete_cmd_prefix": "del ",
     "library": "var_list.py",
     "varRefreshCmd": "print(var_dic_list())"
    },
    "r": {
     "delete_cmd_postfix": ") ",
     "delete_cmd_prefix": "rm(",
     "library": "var_list.r",
     "varRefreshCmd": "cat(var_dic_list()) "
    }
   },
   "types_to_exclude": [
    "module",
    "function",
    "builtin_function_or_method",
    "instance",
    "_Feature"
   ],
   "window_display": false
  }
 },
 "nbformat": 4,
 "nbformat_minor": 4
}
